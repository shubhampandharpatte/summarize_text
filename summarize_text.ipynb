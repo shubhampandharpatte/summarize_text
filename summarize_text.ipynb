{
 "cells": [
  {
   "cell_type": "code",
   "execution_count": 1,
   "id": "ec43ec2e-3422-44b2-b413-4b7688e5dd84",
   "metadata": {},
   "outputs": [],
   "source": [
    "import nltk\n",
    "import string\n",
    "from heapq import nlargest"
   ]
  },
  {
   "cell_type": "code",
   "execution_count": 13,
   "id": "e4910300-514a-41f1-a614-b27637b54cdf",
   "metadata": {},
   "outputs": [
    {
     "name": "stdout",
     "output_type": "stream",
     "text": [
      "Efforts to mitigate climate change include transitioning to renewable energy sources, enhancing energy efficiency, and promoting sustainable practices.\n"
     ]
    }
   ],
   "source": [
    "import nltk\n",
    "import string\n",
    "from heapq import nlargest\n",
    "from nltk.corpus import stopwords\n",
    "from nltk.tokenize import sent_tokenize, word_tokenize\n",
    "\n",
    "# Ensure necessary NLTK data is downloaded\n",
    "# nltk.download('punkt')\n",
    "# nltk.download('stopwords')\n",
    "\n",
    "def summarize_text(text):\n",
    "    # Determine the length of the summary\n",
    "    if text.count(\". \") > 20:\n",
    "        length = int(round(text.count(\". \") / 10, 0))\n",
    "    else:\n",
    "        length = 1\n",
    "\n",
    "    # Remove punctuation from the text\n",
    "    nopunct = [char for char in text if char not in string.punctuation]\n",
    "    nopunct = \"\".join(nopunct)\n",
    "\n",
    "    # Remove stopwords from the text\n",
    "    processed_text = [word for word in nopunct.split() if word.lower() not in stopwords.words('english')]\n",
    "\n",
    "    # Calculate word frequencies\n",
    "    word_freq = {}\n",
    "    for word in processed_text:\n",
    "        if word not in word_freq:\n",
    "            word_freq[word] = 1\n",
    "        else:\n",
    "            word_freq[word] += 1\n",
    "\n",
    "    # Normalize word frequencies\n",
    "    max_freq = max(word_freq.values())\n",
    "    for word in word_freq.keys():\n",
    "        word_freq[word] = (word_freq[word] / max_freq)\n",
    "\n",
    "    # Tokenize sentences and score them\n",
    "    sent_list = sent_tokenize(text)\n",
    "    sent_score = {}\n",
    "    for sent in sent_list:\n",
    "        for word in word_tokenize(sent.lower()):\n",
    "            if word in word_freq.keys():\n",
    "                if sent not in sent_score.keys():\n",
    "                    sent_score[sent] = word_freq[word]\n",
    "                else:\n",
    "                    sent_score[sent] += word_freq[word]\n",
    "\n",
    "    # Select top N sentences for summary\n",
    "    summary_sents = nlargest(length, sent_score, key=sent_score.get)\n",
    "    summary = \" \".join(summary_sents)\n",
    "    return summary\n",
    "\n",
    "# Example usage\n",
    "text = \"\"\"\n",
    "Climate change is one of the most pressing issues of our time. The planet's average surface temperature has risen about 1.18 degrees Celsius since the late 19th century. This change is largely driven by increased carbon dioxide emissions into the atmosphere and other human activities. The effects of climate change are already being felt around the globe. Extreme weather events, such as hurricanes and wildfires, are becoming more frequent and severe. Melting glaciers and ice sheets are contributing to rising sea levels, which threaten coastal communities. Efforts to mitigate climate change include transitioning to renewable energy sources, enhancing energy efficiency, and promoting sustainable practices. However, significant challenges remain. Global cooperation and immediate action are crucial to address this urgent issue. Climate policies must be informed by scientific research and tailored to the specific needs of different regions. Public awareness and education are also essential to mobilize support for climate action. Everyone has a role to play in combating climate change, from individuals reducing their carbon footprints to governments enacting comprehensive environmental policies. The time to act is now to ensure a sustainable future for generations to come.\n",
    "\"\"\"\n",
    "summary = summarize_text(text)\n",
    "print(summary)\n"
   ]
  },
  {
   "cell_type": "code",
   "execution_count": null,
   "id": "1f33cef1-0713-4fb2-ae7e-6bcd48d5594c",
   "metadata": {},
   "outputs": [],
   "source": []
  }
 ],
 "metadata": {
  "kernelspec": {
   "display_name": "Python 3 (ipykernel)",
   "language": "python",
   "name": "python3"
  },
  "language_info": {
   "codemirror_mode": {
    "name": "ipython",
    "version": 3
   },
   "file_extension": ".py",
   "mimetype": "text/x-python",
   "name": "python",
   "nbconvert_exporter": "python",
   "pygments_lexer": "ipython3",
   "version": "3.12.4"
  }
 },
 "nbformat": 4,
 "nbformat_minor": 5
}
